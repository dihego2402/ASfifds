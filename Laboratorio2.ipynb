{
 "cells": [
  {
   "cell_type": "markdown",
   "id": "07c80533-a603-4a6b-a7a0-764e6cfd3198",
   "metadata": {},
   "source": [
    "# Laboratorio 2 - Sintaxis y Estructura de Datos"
   ]
  },
  {
   "cell_type": "markdown",
   "id": "2ebe1dd7-6491-4a83-bf29-5c72e44e78e3",
   "metadata": {},
   "source": [
    "## Parte 1. **(Programación y Sintaxis)**"
   ]
  },
  {
   "cell_type": "markdown",
   "id": "45707ca5-58a4-48b5-8de3-cd125745750e",
   "metadata": {},
   "source": [
    "### Ejercicio 1: Haga un programa en Python que reciba de parámetro un número de segundos y que despliegue en pantalla, las horas, minutos y segundos que representan."
   ]
  },
  {
   "cell_type": "code",
   "execution_count": 3,
   "id": "4e1ca254-50cf-44b0-9ded-146fa66b69f1",
   "metadata": {
    "tags": []
   },
   "outputs": [
    {
     "name": "stdout",
     "output_type": "stream",
     "text": [
      "Horas: 1, Minutos: 39, Segundos: 31\n"
     ]
    }
   ],
   "source": [
    "def con_seg(segundos):\n",
    "    try:\n",
    "        if segundos < 0:\n",
    "            raise ValueError(\"El número de segundos debe ser un valor positivo.\")\n",
    "        \n",
    "        horas = segundos // 3600\n",
    "        minutos = (segundos % 3600) // 60\n",
    "        segundos = segundos % 60\n",
    "        \n",
    "        print(f\"Horas: {horas}, Minutos: {minutos}, Segundos: {segundos}\")\n",
    "    \n",
    "    except ValueError as ve:\n",
    "        print(f\"Error: {ve}\")\n",
    "\n",
    "con_seg(5971)"
   ]
  },
  {
   "cell_type": "markdown",
   "id": "d9857e5f-3e40-461e-b209-521e76b82713",
   "metadata": {
    "tags": []
   },
   "source": [
    "### Ejercicio 2. Haga una función en Python que dado un número entre 1 y 20. Y un carácter cualquiera despliegue cuatro patrones triangulares."
   ]
  },
  {
   "cell_type": "code",
   "execution_count": 6,
   "id": "b5f7d8f0-8b2e-4241-bf52-b63d698f533d",
   "metadata": {
    "tags": []
   },
   "outputs": [
    {
     "name": "stdout",
     "output_type": "stream",
     "text": [
      "*\n",
      "**\n",
      "***\n",
      "****\n",
      "\n",
      "   *\n",
      "  **\n",
      " ***\n",
      "****\n",
      "\n",
      "****\n",
      "***\n",
      "**\n",
      "*\n",
      "\n",
      "   *\n",
      "  ***\n",
      " *****\n",
      "*******\n"
     ]
    }
   ],
   "source": [
    "def pat_tri(numero, caracter):\n",
    "    try:\n",
    "        if not (1 <= numero <= 20):\n",
    "            raise ValueError(\"El número debe estar en el rango de 1 a 20.\")\n",
    "        \n",
    "        for i in range(1, numero + 1):\n",
    "            print(caracter * i)\n",
    "        \n",
    "        print()  # Línea en blanco\n",
    "        \n",
    "        for i in range(1, numero + 1):\n",
    "            print(\" \" * (numero - i) + caracter * i)\n",
    "        \n",
    "        print()  # Línea en blanco\n",
    "        \n",
    "        for i in range(numero, 0, -1):\n",
    "            print(caracter * i)\n",
    "        \n",
    "        print()  # Línea en blanco\n",
    "        \n",
    "        for i in range(1, numero + 1):\n",
    "            print(\" \" * (numero - i) + caracter * (2 * i - 1))\n",
    "    \n",
    "    except ValueError as ve:\n",
    "        print(f\"Error: {ve}\")\n",
    "\n",
    "pat_tri(4,'*')"
   ]
  },
  {
   "cell_type": "markdown",
   "id": "7b93ba86-b442-4a18-a4b4-d26d1492d5fa",
   "metadata": {},
   "source": [
    "### Ejercicio 3. Haga un programa en Python que la fecha de nacimiento de una persona (puede ingresar por separado cada valor, es decir pedir primero día, luego mes y luego año), despliegue la edad de la persona en años, meses y dìas. Su resultado puede ser aproximado."
   ]
  },
  {
   "cell_type": "code",
   "execution_count": null,
   "id": "c6a733fc-1711-4a31-aa91-9a87c43db9cb",
   "metadata": {
    "tags": []
   },
   "outputs": [],
   "source": [
    "import datetime as datetime\n",
    "\n",
    "def calcular_edad(dia_nac, mes_nac, año_nac):\n",
    "    try:\n",
    "        fecha_actual = datetime.today()\n",
    "        fecha_nacimiento = datetime(año_nac, mes_nac, dia_nac)\n",
    "        edad = fecha_actual - fecha_nacimiento\n",
    "        años = edad.days // 365\n",
    "        meses = (edad.days % 365) // 30\n",
    "        dias = (edad.days % 365) % 30\n",
    "\n",
    "        print(f\"Edad: {años} años, {meses} meses y {dias} días.\")\n",
    "\n",
    "    except ValueError as ve:\n",
    "        print(f\"Error: {ve}\")\n",
    "\n",
    "try:\n",
    "    dia_nacimiento = int(input(\"Ingrese el día de nacimiento: \"))\n",
    "    mes_nacimiento = int(input(\"Ingrese el mes de nacimiento: \"))\n",
    "    año_nacimiento = int(input(\"Ingrese el año de nacimiento: \"))\n",
    "\n",
    "    calcular_edad(dia_nacimiento, mes_nacimiento, año_nacimiento)\n",
    "\n",
    "except ValueError as ve:\n",
    "    print(f\"Error: {ve}\")"
   ]
  },
  {
   "cell_type": "markdown",
   "id": "58b5c310-e866-48e3-9c16-06a986cf51bd",
   "metadata": {},
   "source": [
    "### Ejercicio 4. Escriba una funcón en Python que dada una tupla de elementos (números o letras) esta se convierta a un string."
   ]
  },
  {
   "cell_type": "code",
   "execution_count": 4,
   "id": "47904d7a-0763-4bac-864c-b8fe4cc8931b",
   "metadata": {
    "tags": []
   },
   "outputs": [
    {
     "name": "stdout",
     "output_type": "stream",
     "text": [
      "102040570\n"
     ]
    }
   ],
   "source": [
    "def tupla_a_string(tupla):\n",
    "    try:\n",
    "        resultado = ''.join(map(str, tupla))\n",
    "        print(resultado)\n",
    "\n",
    "    except Exception as e:\n",
    "        print(f\"Error: {e}\")\n",
    "\n",
    "ejemplo = (10, 20, 40, 5, 70)\n",
    "tupla_a_string(ejemplo)"
   ]
  },
  {
   "cell_type": "markdown",
   "id": "33d0bea9-a7d2-4276-8603-60f93b4c49d1",
   "metadata": {},
   "source": [
    "### Ejercicio 5. Cree un programa en Python que dada una lista de tuplas, elimine las tuplas que esán vacías."
   ]
  },
  {
   "cell_type": "code",
   "execution_count": 5,
   "id": "b6cdeec4-e40e-4011-96b7-7b638da38fce",
   "metadata": {
    "tags": []
   },
   "outputs": [
    {
     "name": "stdout",
     "output_type": "stream",
     "text": [
      "[('X',), ('a', 'b'), ('a', 'b', 'c'), 'd']\n"
     ]
    }
   ],
   "source": [
    "def eliminar_tuplas_vacias(lista_tuplas):\n",
    "    resultado = [tupla for tupla in lista_tuplas if any(tupla)]\n",
    "    print(resultado)\n",
    "\n",
    "lista_ejemplo = [(), (), ('X',), ('a', 'b'), ('a', 'b', 'c'), ('d')]\n",
    "eliminar_tuplas_vacias(lista_ejemplo)"
   ]
  },
  {
   "cell_type": "markdown",
   "id": "f48d12b1-d541-43dc-b2df-fe272fe7d4ce",
   "metadata": {},
   "source": [
    "### Ejercicio 6. Cree una función en Python que dada una tupla de tuplas con números, produzca una tupla con el promedio de cada tupla individual, debe usar comprehensions para desarrollar este ejercicio."
   ]
  },
  {
   "cell_type": "code",
   "execution_count": 6,
   "id": "fdddb19d-9485-4401-a232-fdde88aa7a28",
   "metadata": {
    "tags": []
   },
   "outputs": [
    {
     "name": "stdout",
     "output_type": "stream",
     "text": [
      "(10.5, 44.0, 58.0)\n"
     ]
    }
   ],
   "source": [
    "def promedio_tuplas(tupla_de_tuplas):\n",
    "    resultado = tuple(sum(tupla) / len(tupla) for tupla in tupla_de_tuplas)\n",
    "    return resultado\n",
    "\n",
    "tupla_ejemplo = ((10, 10, 10, 12), (30, 45, 56, 45), (81, 80, 39, 32))\n",
    "resultado = promedio_tuplas(tupla_ejemplo)\n",
    "print(resultado)"
   ]
  },
  {
   "cell_type": "markdown",
   "id": "c6bae434-0a75-47e4-bb23-9eb5b48b6941",
   "metadata": {},
   "source": [
    "### Ejercicio 7. Escribir un programa que gestione las facturas pendientes de cobro de una empresa. Las facturas se almacenarán en un diccionario donde la llave de cada factura será el número de factura (debe utilizar un numero de 4 dígitos) y el valor el coste de la factura. El programa debe preguntar al usuario si quiere añadir una nueva factura, pagar una existente o terminar. Si desea añadir una nueva factura se preguntará por el número de factura y su coste y se añadirá al diccionario, para confirmar que la factura se ingreso correctamente el programa debe desplegar el diccionario completo. Si se desea pagar una factura se preguntará por el número de factura y se eliminará del diccionario. Después de cada operación el programa debe mostrar en pantalla la cantidad cobrada hasta el momento y la cantidad pendiente de cobro. Puede utilizar otras estructuras de datos como apoyo si lo considera necesario.\n"
   ]
  },
  {
   "cell_type": "code",
   "execution_count": null,
   "id": "8797a3d0-28b4-4ee8-be43-b930a032feab",
   "metadata": {},
   "outputs": [],
   "source": [
    "def def_facturas():\n",
    "    facturas = {}\n",
    "    cobrado_total = 0\n",
    "\n",
    "    while True:\n",
    "        print(\"\\n1. Añadir nueva factura\")\n",
    "        print(\"2. Pagar factura existente\")\n",
    "        print(\"3. Terminar\")\n",
    "\n",
    "        opcion = input(\"Seleccione una opción (1/2/3): \")\n",
    "\n",
    "        if opcion == '1':\n",
    "            try:\n",
    "                numero_factura = input(\"Ingrese el número de factura (4 dígitos): \")\n",
    "                if len(numero_factura) != 4 or not numero_factura.isdigit():\n",
    "                    raise ValueError(\"Número de factura inválido.\")\n",
    "                \n",
    "                costo_factura = float(input(\"Ingrese el costo de la factura: \"))\n",
    "                facturas[numero_factura] = costo_factura\n",
    "\n",
    "                print(\"\\nFactura agregada correctamente.\")\n",
    "                print(\"Facturas pendientes:\", facturas)\n",
    "                cobrado_total += costo_factura\n",
    "                print(\"Cantidad cobrada hasta el momento:\", cobrado_total)\n",
    "                print(\"Cantidad pendiente de cobro:\", sum(facturas.values()))\n",
    "\n",
    "            except ValueError as ve:\n",
    "                print(f\"Error: {ve}\")\n",
    "\n",
    "        elif opcion == '2':\n",
    "            try:\n",
    "                numero_factura = input(\"Ingrese el número de factura a pagar: \")\n",
    "                costo_factura = facturas.pop(numero_factura, None)\n",
    "\n",
    "                if costo_factura is not None:\n",
    "                    print(f\"\\nFactura {numero_factura} pagada correctamente.\")\n",
    "                    cobrado_total += costo_factura\n",
    "                    print(\"Cantidad cobrada hasta el momento:\", cobrado_total)\n",
    "                    print(\"Cantidad pendiente de cobro:\", sum(facturas.values()))\n",
    "                else:\n",
    "                    print(f\"No se encontró la factura {numero_factura}.\")\n",
    "\n",
    "            except ValueError as ve:\n",
    "                print(f\"Error: {ve}\")\n",
    "\n",
    "        elif opcion == '3':\n",
    "            print(\"Programa terminado.\")\n",
    "            break\n",
    "\n",
    "        else:\n",
    "            print(\"Opción no válida. Por favor, seleccione 1, 2 o 3.\")\n",
    "\n",
    "def_facturas()"
   ]
  },
  {
   "cell_type": "markdown",
   "id": "5734fabf-fcf3-4948-a9ae-f8d2ebad0e50",
   "metadata": {},
   "source": [
    "### Ejercicio 8. Haga una función en Python, que cree un set con todas las cartas de una baraja de Pocker utilizando el siguiente formato: Tipo-Numero. Utilice las letras T para tréboles, C para corazones, P para picas y E para espadas. Para los números utilice la numeración del 1 al 13. \n",
    "\n",
    "Por ejemplo E13 - sería Rey de Espadas, P01 sería As de Picas, T05 sería cinco de Tréboles.\n",
    "\n",
    "Posteriormente cree una función que dado el conjunto anterior cree dos sets nuevos de cartas, cada conjunto debe tener una cantidad variable de elementos, puede utilizar números aleatorios enteros para definir la longitud de los conjuntos.\n",
    "\n",
    "Adicionalmente, deberá calcular la probabilidad de la intersección de ambos conjuntos y demuestre si son eventos independientes con la regla del producto.\n",
    "\n",
    "Para concluir, calcule probabilidad de la unión de ambos conjuntos y demuestre que se cumple la regla de la adición.\n",
    "\n"
   ]
  },
  {
   "cell_type": "code",
   "execution_count": null,
   "id": "77de5d43-cbe5-43f2-9dc1-bd1058a4453d",
   "metadata": {},
   "outputs": [],
   "source": [
    "import random\n",
    "\n",
    "def crear_baraja():\n",
    "    tipos = ['T', 'C', 'P', 'E']\n",
    "    numeros = range(1, 14)\n",
    "    baraja = set(f\"{tipo}{numero:02d}\" for tipo in tipos for numero in numeros)\n",
    "    return baraja\n",
    "\n",
    "def crear_conjuntos_aleatorios(baraja):\n",
    "    longitud_conjunto1 = random.randint(1, len(baraja))\n",
    "    longitud_conjunto2 = random.randint(1, len(baraja))\n",
    "\n",
    "    conjunto1 = set(random.sample(baraja, longitud_conjunto1))\n",
    "    conjunto2 = set(random.sample(baraja, longitud_conjunto2))\n",
    "\n",
    "    return conjunto1, conjunto2\n",
    "\n",
    "def calcular_probabilidades(conjunto1, conjunto2):\n",
    "    interseccion = conjunto1 & conjunto2\n",
    "    prob_interseccion = len(interseccion) / min(len(conjunto1), len(conjunto2))\n",
    "\n",
    "    prob_union = len(conjunto1 | conjunto2) / max(len(conjunto1), len(conjunto2))\n",
    "\n",
    "    print(f\"\\nConjunto 1: {conjunto1}\")\n",
    "    print(f\"Conjunto 2: {conjunto2}\")\n",
    "    print(f\"Intersección: {interseccion}\")\n",
    "    print(f\"Probabilidad de intersección: {prob_interseccion:.4f}\")\n",
    "\n",
    "    print(f\"\\nUnión: {conjunto1 | conjunto2}\")\n",
    "    print(f\"Probabilidad de unión: {prob_union:.4f}\")\n",
    "\n",
    "    # Regla del producto para eventos independientes\n",
    "    independientes = prob_interseccion == (len(conjunto1) / len(baraja)) * (len(conjunto2) / len(baraja))\n",
    "    print(\"\\nRegla del producto para eventos independientes:\", independientes)\n",
    "\n",
    "    # Regla de la adición para eventos disjuntos\n",
    "    adicion = prob_union == (len(conjunto1) + len(conjunto2) - len(interseccion)) / len(baraja)\n",
    "    print(\"Regla de la adición para eventos disjuntos:\", adicion)\n",
    "\n",
    "baraja = crear_baraja()\n",
    "conjunto1, conjunto2 = crear_conjuntos_aleatorios(baraja)\n",
    "calcular_probabilidades(conjunto1, conjunto2)"
   ]
  }
 ],
 "metadata": {
  "kernelspec": {
   "display_name": "Python 3 (ipykernel)",
   "language": "python",
   "name": "python3"
  },
  "language_info": {
   "codemirror_mode": {
    "name": "ipython",
    "version": 3
   },
   "file_extension": ".py",
   "mimetype": "text/x-python",
   "name": "python",
   "nbconvert_exporter": "python",
   "pygments_lexer": "ipython3",
   "version": "3.11.5"
  }
 },
 "nbformat": 4,
 "nbformat_minor": 5
}
