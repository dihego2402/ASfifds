{
 "cells": [
  {
   "cell_type": "code",
   "execution_count": 7,
   "id": "66107d2e-d78e-4028-ad2f-a97a06c9b368",
   "metadata": {
    "tags": []
   },
   "outputs": [],
   "source": [
    "#Importar Librerias\n",
    "\n",
    "import pandas as pd\n",
    "import numpy as np\n",
    "import matplotlib.pyplot as plt\n",
    "import seaborn as sns\n",
    "from sklearn.model_selection import train_test_split\n",
    "from pandas.core.common import random_state\n",
    "from sklearn.linear_model import LinearRegression\n",
    "from sklearn.metrics import mean_squared_error"
   ]
  },
  {
   "cell_type": "code",
   "execution_count": 43,
   "id": "28fdeedf-c8e3-4f05-b084-68155175c55f",
   "metadata": {
    "tags": []
   },
   "outputs": [],
   "source": [
    "#Importar el Dataset\n",
    "\n",
    "dataset = np.load(\"/Users/diegoalvarez/Documents/Maestria/Python/Proyecto/proyecto_training_data.npy\")\n",
    "\n",
    "SalePrice = dataset[:, 0]\n",
    "OverallQual = dataset[:, 1]\n",
    "FstFlrSF = dataset[:, 2]\n",
    "TotRmsAbvGrd = dataset[:, 3]\n",
    "YearBuilt = dataset[:, 4]\n",
    "LotFrontage = dataset[:, 5]"
   ]
  },
  {
   "cell_type": "code",
   "execution_count": 44,
   "id": "82bb8ff6-bbfd-424d-81cc-e699d33be87d",
   "metadata": {
    "tags": []
   },
   "outputs": [
    {
     "name": "stdout",
     "output_type": "stream",
     "text": [
      "[208500. 181500. 223500. ... 266500. 142125. 147500.]\n",
      "[7. 6. 7. ... 7. 5. 5.]\n",
      "[ 856. 1262.  920. ... 1188. 1078. 1256.]\n",
      "[8. 6. 6. ... 9. 5. 6.]\n",
      "[2003. 1976. 2001. ... 1941. 1950. 1965.]\n",
      "[65. 80. 68. ... 66. 68. 75.]\n"
     ]
    }
   ],
   "source": [
    "print(SalePrice)\n",
    "print(OverallQual)\n",
    "print(FstFlrSF)\n",
    "print(TotRmsAbvGrd)\n",
    "print(YearBuilt)\n",
    "print(LotFrontage)"
   ]
  },
  {
   "cell_type": "code",
   "execution_count": 46,
   "id": "f685a787-ab32-439b-a017-6df16a9cd0de",
   "metadata": {
    "tags": []
   },
   "outputs": [],
   "source": [
    "tamano_total = len(dataset)\n",
    "porcentaje_entrenamiento = 0.8\n",
    "\n",
    "#Calcular el índice para dividir datos\n",
    "indice_div = int(tamano_total * porcentaje_entrenamiento)\n",
    "\n",
    "#Dividir los datos en conjunto de entrenamiento y testing\n",
    "datos_entren = dataset[:indice_div, :]\n",
    "datos_val = dataset[indice_div:, :]"
   ]
  },
  {
   "cell_type": "code",
   "execution_count": 47,
   "id": "d64c2a31-3958-4653-9890-17ce074d8c13",
   "metadata": {
    "tags": []
   },
   "outputs": [
    {
     "name": "stdout",
     "output_type": "stream",
     "text": [
      "Dimensiones del conjunto de entrenamiento: (1168, 6)\n",
      "Dimensiones del conjunto de validación/pruebas: (292, 6)\n"
     ]
    }
   ],
   "source": [
    "print(\"Dimensiones del conjunto de entrenamiento:\", datos_entren.shape)\n",
    "print(\"Dimensiones del conjunto de validación/pruebas:\", datos_val.shape)"
   ]
  }
 ],
 "metadata": {
  "kernelspec": {
   "display_name": "Python 3 (ipykernel)",
   "language": "python",
   "name": "python3"
  },
  "language_info": {
   "codemirror_mode": {
    "name": "ipython",
    "version": 3
   },
   "file_extension": ".py",
   "mimetype": "text/x-python",
   "name": "python",
   "nbconvert_exporter": "python",
   "pygments_lexer": "ipython3",
   "version": "3.11.5"
  }
 },
 "nbformat": 4,
 "nbformat_minor": 5
}
